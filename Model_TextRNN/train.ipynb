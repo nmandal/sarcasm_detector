{
 "cells": [
  {
   "cell_type": "code",
   "execution_count": null,
   "metadata": {},
   "outputs": [],
   "source": [
    "# train.py"
   ]
  },
  {
   "cell_type": "markdown",
   "metadata": {},
   "source": [
    "## Imports"
   ]
  },
  {
   "cell_type": "code",
   "execution_count": null,
   "metadata": {},
   "outputs": [],
   "source": [
    "from utils import *\n",
    "from model import *\n",
    "from config import Config\n",
    "import sys\n",
    "import torch.optim as optim\n",
    "from torch import nn\n",
    "import torch\n",
    "\n",
    "import pandas as pd\n",
    "from sklearn.model_selection import train_test_split"
   ]
  },
  {
   "cell_type": "markdown",
   "metadata": {},
   "source": [
    "## Main"
   ]
  },
  {
   "cell_type": "code",
   "execution_count": null,
   "metadata": {},
   "outputs": [],
   "source": [
    "if __name__=='__main__':\n",
    "    config = Config()\n",
    "    \n",
    "    data_file = '../data/train-balanced-sarcasm.csv'\n",
    "    data = pd.read_csv(data_file)\n",
    "    data.dropna(subset=['comment'], inplace=True)\n",
    "    data = data[['comment', 'label']]\n",
    "    train_df, test_df = train_test_split(data, test_size=0.2)\n",
    "    \n",
    "    w2v_file = '../data/glove.840B.300d.txt'\n",
    "    \n",
    "    dataset = Dataset(config)\n",
    "    dataset.load_data(w2v_file, train_df, test_df)\n",
    "    \n",
    "    # Create Model with specified optimizer and loss function\n",
    "    ##############################################################\n",
    "    model = TextRNN(config, len(dataset.vocab), dataset.word_embeddings)\n",
    "    if torch.cuda.is_available():\n",
    "        model.cuda()\n",
    "    model.train()\n",
    "    optimizer = optim.SGD(model.parameters(), lr=config.lr)\n",
    "    NLLLoss = nn.NLLLoss()\n",
    "    model.add_optimizer(optimizer)\n",
    "    model.add_loss_op(NLLLoss)\n",
    "    ##############################################################\n",
    "    \n",
    "    train_losses = []\n",
    "    val_accuracies = []\n",
    "    \n",
    "    for i in range(config.max_epochs):\n",
    "        print (\"Epoch: {}\".format(i))\n",
    "        train_loss,val_accuracy = model.run_epoch(dataset.train_iterator, dataset.val_iterator, i)\n",
    "        train_losses.append(train_loss)\n",
    "        val_accuracies.append(val_accuracy)\n",
    "\n",
    "    train_acc = evaluate_model(model, dataset.train_iterator)\n",
    "    val_acc = evaluate_model(model, dataset.val_iterator)\n",
    "    test_acc = evaluate_model(model, dataset.test_iterator)\n",
    "\n",
    "    print ('Final Training Accuracy: {:.4f}'.format(train_acc))\n",
    "    print ('Final Validation Accuracy: {:.4f}'.format(val_acc))\n",
    "    print ('Final Test Accuracy: {:.4f}'.format(test_acc))"
   ]
  },
  {
   "cell_type": "code",
   "execution_count": null,
   "metadata": {},
   "outputs": [],
   "source": []
  },
  {
   "cell_type": "code",
   "execution_count": null,
   "metadata": {},
   "outputs": [],
   "source": []
  }
 ],
 "metadata": {
  "kernelspec": {
   "display_name": "Python 3",
   "language": "python",
   "name": "python3"
  },
  "language_info": {
   "codemirror_mode": {
    "name": "ipython",
    "version": 3
   },
   "file_extension": ".py",
   "mimetype": "text/x-python",
   "name": "python",
   "nbconvert_exporter": "python",
   "pygments_lexer": "ipython3",
   "version": "3.7.2"
  }
 },
 "nbformat": 4,
 "nbformat_minor": 2
}
