{
 "cells": [
  {
   "cell_type": "code",
   "execution_count": 1,
   "metadata": {},
   "outputs": [
    {
     "ename": "ModuleNotFoundError",
     "evalue": "No module named 'cnn_text'",
     "output_type": "error",
     "traceback": [
      "\u001b[0;31m--------------------------------------------------------------------\u001b[0m",
      "\u001b[0;31mModuleNotFoundError\u001b[0m                Traceback (most recent call last)",
      "\u001b[0;32m<ipython-input-1-245ca5141382>\u001b[0m in \u001b[0;36m<module>\u001b[0;34m\u001b[0m\n\u001b[1;32m      7\u001b[0m \u001b[0;32mfrom\u001b[0m \u001b[0mdata_preparation\u001b[0m \u001b[0;32mimport\u001b[0m \u001b[0mDataPrep\u001b[0m\u001b[0;34m\u001b[0m\u001b[0;34m\u001b[0m\u001b[0m\n\u001b[1;32m      8\u001b[0m \u001b[0;32mfrom\u001b[0m \u001b[0mfeature_engineering\u001b[0m \u001b[0;32mimport\u001b[0m \u001b[0mFeatureEngineer\u001b[0m\u001b[0;34m\u001b[0m\u001b[0;34m\u001b[0m\u001b[0m\n\u001b[0;32m----> 9\u001b[0;31m \u001b[0;32mfrom\u001b[0m \u001b[0mcnn_text\u001b[0m \u001b[0;32mimport\u001b[0m \u001b[0mCNN_Text\u001b[0m\u001b[0;34m\u001b[0m\u001b[0;34m\u001b[0m\u001b[0m\n\u001b[0m",
      "\u001b[0;31mModuleNotFoundError\u001b[0m: No module named 'cnn_text'"
     ]
    }
   ],
   "source": [
    "import os\n",
    "import numpy as np\n",
    "from sklearn import model_selection, preprocessing, linear_model, naive_bayes, metrics, svm\n",
    "from sklearn.feature_extraction.text import TfidfVectorizer, CountVectorizer\n",
    "from sklearn import decomposition, ensemble\n",
    "\n",
    "from data_preparation import DataPrep\n",
    "from feature_engineering import FeatureEngineer\n",
    "from cnn_text import CNN_Text\n"
   ]
  },
  {
   "cell_type": "code",
   "execution_count": null,
   "metadata": {},
   "outputs": [],
   "source": [
    "def train_model(classifier, feature_vector_train, label, feature_vector_valid):\n",
    "    # fit the training dataset on the classifier\n",
    "    classifier.fit(feature_vector_train, label)\n",
    "    \n",
    "    # predict the labels on validation dataset\n",
    "    predictions = classifier.predict(feature_vector_valid)\n",
    "    \n",
    "    return metrics.accuracy_score(predictions, label)"
   ]
  },
  {
   "cell_type": "code",
   "execution_count": null,
   "metadata": {},
   "outputs": [],
   "source": [
    "def logistic_regression_model(data, features):\n",
    "    # Linear Classifier on Count Vectors\n",
    "    accuracy = train_model(linear_model.LogisticRegression(), features.X_train_count, data.y_train, features.X_valid_count)\n",
    "    print(\"LR, Count Vectors: \", accuracy)\n",
    "\n",
    "    # Linear Classifier on Word Level TF IDF Vectors\n",
    "    accuracy = train_model(linear_model.LogisticRegression(), features.X_train_tfidf, data.y_train, features.X_valid_tfidf)\n",
    "    print(\"LR, WordLevel TF-IDF: \", accuracy)\n",
    "\n",
    "    # Linear Classifier on Ngram Level TF IDF Vectors\n",
    "    accuracy = train_model(linear_model.LogisticRegression(), features.X_train_tfidf_ngram, data.y_train, features.X_valid_tfidf_ngram)\n",
    "    print(\"LR, N-Gram Vectors: \", accuracy)\n",
    "    \n",
    "    # Linear Classifier on Character Level TF IDF Vectors\n",
    "    accuracy = train_model(linear_model.LogisticRegression(), features.X_train_tfidf_ngram_chars, data.y_train, features.X_valid_tfidf_ngram_chars)\n",
    "    print(\"LR, CharLevel Vectors: \", accuracy)"
   ]
  },
  {
   "cell_type": "code",
   "execution_count": null,
   "metadata": {},
   "outputs": [],
   "source": [
    "def main():\n",
    "    data = DataPrep()\n",
    "    \n",
    "    features = FeatureEngineer(data)\n",
    "    \n",
    "    logistic_regression_model(data, features)    "
   ]
  },
  {
   "cell_type": "code",
   "execution_count": null,
   "metadata": {},
   "outputs": [],
   "source": [
    "if __name__ == \"__main__\":\n",
    "    main()\n",
    "    "
   ]
  },
  {
   "cell_type": "code",
   "execution_count": null,
   "metadata": {},
   "outputs": [],
   "source": []
  },
  {
   "cell_type": "code",
   "execution_count": null,
   "metadata": {},
   "outputs": [],
   "source": []
  }
 ],
 "metadata": {
  "kernelspec": {
   "display_name": "Python 3",
   "language": "python",
   "name": "python3"
  },
  "language_info": {
   "codemirror_mode": {
    "name": "ipython",
    "version": 3
   },
   "file_extension": ".py",
   "mimetype": "text/x-python",
   "name": "python",
   "nbconvert_exporter": "python",
   "pygments_lexer": "ipython3",
   "version": "3.7.2"
  }
 },
 "nbformat": 4,
 "nbformat_minor": 2
}
