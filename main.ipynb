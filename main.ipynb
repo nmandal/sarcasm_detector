{
 "cells": [
  {
   "cell_type": "code",
   "execution_count": 1,
   "metadata": {},
   "outputs": [],
   "source": [
    "import os\n",
    "import numpy as np\n",
    "from sklearn import model_selection, preprocessing, linear_model, naive_bayes, metrics, svm\n",
    "from sklearn.feature_extraction.text import TfidfVectorizer, CountVectorizer\n",
    "from sklearn import decomposition, ensemble\n",
    "\n",
    "from data_preparation import DataPrep\n",
    "from feature_engineering import FeatureEngineer\n",
    "#from cnn_text import CNN_Text\n",
    "#from rnn_text import RNN_Text"
   ]
  },
  {
   "cell_type": "code",
   "execution_count": 2,
   "metadata": {},
   "outputs": [],
   "source": [
    "def train_model(classifier, feature_vector_train, train_label, feature_vector_valid, valid_label):\n",
    "    # fit the training dataset on the classifier\n",
    "    classifier.fit(feature_vector_train, train_label)\n",
    "    \n",
    "    # predict the labels on validation dataset\n",
    "    predictions = classifier.predict(feature_vector_valid)\n",
    "    \n",
    "    return metrics.accuracy_score(predictions, valid_label)"
   ]
  },
  {
   "cell_type": "code",
   "execution_count": 3,
   "metadata": {},
   "outputs": [],
   "source": [
    "def logistic_regression_model(data, features):\n",
    "    # Linear Classifier on Count Vectors\n",
    "    accuracy = train_model(linear_model.LogisticRegression(), features.X_train_count, data.y_train, features.X_valid_count, data.y_valid)\n",
    "    print(\"LR, Count Vectors Validation: \", accuracy) # 0.6958262980160406\n",
    "\n",
    "    # Linear Classifier on Word Level TF IDF Vectors\n",
    "    accuracy = train_model(linear_model.LogisticRegression(), features.X_train_tfidf, data.y_train, features.X_valid_tfidf, data.y_valid)\n",
    "    print(\"LR, WordLevel TF-IDF Validation: \", accuracy) # 0.6873733642887294\n",
    "\n",
    "    # Linear Classifier on Ngram Level TF IDF Vectors\n",
    "    accuracy = train_model(linear_model.LogisticRegression(), features.X_train_tfidf_ngram, data.y_train, features.X_valid_tfidf_ngram, data.y_valid)\n",
    "    print(\"LR, N-Gram Vectors Validation: \", accuracy) # 0.660658505698607\n",
    "    \n",
    "    # Linear Classifier on Character Level TF IDF Vectors\n",
    "    accuracy = train_model(linear_model.LogisticRegression(), features.X_train_tfidf_ngram_chars, data.y_train, features.X_valid_tfidf_ngram_chars, data.y_valid)\n",
    "    print(\"LR, CharLevel Vectors Validation: \", accuracy) # 0.6990977205571971"
   ]
  },
  {
   "cell_type": "code",
   "execution_count": 4,
   "metadata": {},
   "outputs": [],
   "source": [
    "def main():\n",
    "    data = DataPrep()\n",
    "\n",
    "    features = FeatureEngineer(data)\n",
    "\n",
    "    logistic_regression_model(data, features)\n",
    "    \n",
    "    #cnn_model()\n",
    "    \n",
    "    #rnn_model()"
   ]
  },
  {
   "cell_type": "code",
   "execution_count": 5,
   "metadata": {},
   "outputs": [
    {
     "name": "stderr",
     "output_type": "stream",
     "text": [
      "/usr/local/lib/python3.7/site-packages/sklearn/linear_model/logistic.py:433: FutureWarning: Default solver will be changed to 'lbfgs' in 0.22. Specify a solver to silence this warning.\n",
      "  FutureWarning)\n",
      "/usr/local/lib/python3.7/site-packages/sklearn/svm/base.py:931: ConvergenceWarning: Liblinear failed to converge, increase the number of iterations.\n",
      "  \"the number of iterations.\", ConvergenceWarning)\n"
     ]
    },
    {
     "name": "stdout",
     "output_type": "stream",
     "text": [
      "LR, Count Vectors Validation:  0.6958262980160406\n",
      "LR, WordLevel TF-IDF Validation:  0.6873733642887294\n",
      "LR, N-Gram Vectors Validation:  0.660658505698607\n",
      "LR, CharLevel Vectors Validation:  0.6990977205571971\n"
     ]
    }
   ],
   "source": [
    "if __name__ == \"__main__\":\n",
    "    main()\n",
    "    "
   ]
  }
 ],
 "metadata": {
  "kernelspec": {
   "display_name": "Python 3",
   "language": "python",
   "name": "python3"
  },
  "language_info": {
   "codemirror_mode": {
    "name": "ipython",
    "version": 3
   },
   "file_extension": ".py",
   "mimetype": "text/x-python",
   "name": "python",
   "nbconvert_exporter": "python",
   "pygments_lexer": "ipython3",
   "version": "3.7.2"
  }
 },
 "nbformat": 4,
 "nbformat_minor": 2
}
